{
 "cells": [
  {
   "cell_type": "markdown",
   "metadata": {},
   "source": [
    "# **PREDICTING TRAVEL INSURANCE PURCHASE USING MACHINE LEARNING**\n"
   ]
  },
  {
   "cell_type": "markdown",
   "metadata": {},
   "source": [
    "---\n"
   ]
  },
  {
   "cell_type": "markdown",
   "metadata": {},
   "source": [
    "## **BUSINESS UNDERSTANDING**\n"
   ]
  },
  {
   "cell_type": "markdown",
   "metadata": {},
   "source": [
    "---\n"
   ]
  },
  {
   "cell_type": "markdown",
   "metadata": {},
   "source": [
    "---\n"
   ]
  },
  {
   "cell_type": "markdown",
   "metadata": {},
   "source": [
    "### **PROBLEM STATEMENT**\n",
    "\n",
    "**ExploreXperience** a tour company, has been offering travel insurance to its customers and especially during the Covid-19 pandemic.The Company is seeking to understand which customers would be interested to buy the travel insurance post the pandemic period. Past data on the performance of the sales of the travel insurance package will be used for analysis.\n",
    "\n",
    "> The significance of utilizing data for this endeavor cannot be overstated. Data-driven insights play an instrumental role in comprehending customer behavior, preferences, and trends. By dissecting past sales records, ExploreXperience gains valuable intelligence on customer demographics, buying patterns, and the efficacy of their previous insurance offerings. This data empowers them to identify key indicators that signify a customer's inclination towards purchasing travel insurance.\n",
    "\n",
    "The implications of this analysis are profound for ExploreXperience. It allows them to make informed, targeted marketing efforts, optimizing their resources and increasing the likelihood of a successful campaign. By accurately identifying potential customers, they not only enhance their revenue stream but also solidify customer trust and loyalty. This strategic use of data ensures that ExploreXperience remains agile and responsive to changing market dynamics, ultimately securing its position as a forward-thinking industry leader.\n"
   ]
  },
  {
   "cell_type": "markdown",
   "metadata": {},
   "source": [
    "<div class=\"alert alert-block alert-success\">\n",
    "<b>Main objective:</b> The main objective of this project is to come up with a predictive model that will be able to identify customers who are more likely to buy the travel insurance package so as it send them targeted marketing messages\n",
    "</div>\n"
   ]
  },
  {
   "cell_type": "markdown",
   "metadata": {},
   "source": [
    "#### **Other objectives**\n",
    "\n",
    "The project will also involve an exploratory data analysis to come up with insights and recommendations on what factors determine to a large extend whether a customer will buy or not buy the travel insurance package\n"
   ]
  },
  {
   "cell_type": "markdown",
   "metadata": {},
   "source": [
    "#### **Metric for success**\n",
    "\n",
    "The project will be considered successful if the model has an accuracy of **90%** and has recall of above **80%** and is succesfully deployed into a production enviroment.\n"
   ]
  },
  {
   "cell_type": "markdown",
   "metadata": {},
   "source": [
    "## **DATA UNDERSTANDING**\n"
   ]
  },
  {
   "cell_type": "markdown",
   "metadata": {},
   "source": [
    "---\n"
   ]
  },
  {
   "cell_type": "markdown",
   "metadata": {},
   "source": [
    "---\n"
   ]
  },
  {
   "cell_type": "markdown",
   "metadata": {},
   "source": [
    "This dataset has 1987 rows and 10 columns. The columns include:\n",
    "\n",
    "| Variable Name       | Description                                                                                                                     |\n",
    "| ------------------- | ------------------------------------------------------------------------------------------------------------------------------- |\n",
    "| Unnamed             | The id of the data entry                                                                                                        |\n",
    "| Age                 | Age Of The Customer                                                                                                             |\n",
    "| Employment Type     | The Sector In Which Customer Is Employed                                                                                        |\n",
    "| GraduateOrNot       | Whether The Customer Is College Graduate Or Not                                                                                 |\n",
    "| AnnualIncome        | Yearly Income Of The Customer In Indian Rupees[Rounded To Nearest 50 Thousand Rupees]                                           |\n",
    "| FamilyMembers       | Number Of Members In Customer's Family                                                                                          |\n",
    "| ChronicDisease      | Whether The Customer Suffers From Any Major Disease Or Conditions Like Diabetes/High BP or Asthama,etc.                         |\n",
    "| FrequentFlyer       | Derived Data Based On Customer's History Of Booking Air Tickets On Atleast 4 Different Instances In The Last 2 Years[2017-2019] |\n",
    "| EverTravelledAbroad | Has The Customer Ever Travelled To A Foreign Country[Not Necessarily Using The Company's Services]                              |\n",
    "| TravelInsurance     | Did The Customer Buy Travel Insurance Package During Introductory Offering Held In The Year 2019                                |\n"
   ]
  },
  {
   "cell_type": "markdown",
   "metadata": {},
   "source": [
    "#### Reading in the dataset\n"
   ]
  },
  {
   "cell_type": "code",
   "execution_count": 3,
   "metadata": {},
   "outputs": [],
   "source": [
    "# importing all the required libraries \n",
    "\n",
    "import pandas as pd \n",
    "import numpy as np \n",
    "import matplotlib.pyplot as plt \n",
    "import seaborn as sns\n",
    "plt.style.use('ggplot')\n",
    "from sklearn.model_selection import train_test_split\n",
    "from sklearn.compose import ColumnTransformer\n",
    "from sklearn.pipeline import Pipeline\n",
    "from sklearn.preprocessing import StandardScaler, OneHotEncoder,FunctionTransformer\n",
    "from sklearn.base import BaseEstimator, TransformerMixin\n",
    "from imblearn.over_sampling import SMOTE\n",
    "from sklearn.ensemble import RandomForestClassifier, AdaBoostClassifier\n",
    "from sklearn.svm import SVC\n",
    "from sklearn.neighbors import KNeighborsClassifier\n",
    "from sklearn.metrics import accuracy_score, classification_report, confusion_matrix\n",
    "import joblib\n",
    "import shap\n",
    "import warnings\n",
    "warnings.filterwarnings(\"ignore\")"
   ]
  },
  {
   "cell_type": "code",
   "execution_count": 4,
   "metadata": {},
   "outputs": [],
   "source": [
    "# reading in data from a csv file \n",
    "\n",
    "df = pd.read_csv(\"TravelInsurancePrediction.csv\")"
   ]
  },
  {
   "cell_type": "code",
   "execution_count": 3,
   "metadata": {},
   "outputs": [
    {
     "data": {
      "text/html": [
       "<div>\n",
       "<style scoped>\n",
       "    .dataframe tbody tr th:only-of-type {\n",
       "        vertical-align: middle;\n",
       "    }\n",
       "\n",
       "    .dataframe tbody tr th {\n",
       "        vertical-align: top;\n",
       "    }\n",
       "\n",
       "    .dataframe thead th {\n",
       "        text-align: right;\n",
       "    }\n",
       "</style>\n",
       "<table border=\"1\" class=\"dataframe\">\n",
       "  <thead>\n",
       "    <tr style=\"text-align: right;\">\n",
       "      <th></th>\n",
       "      <th>Unnamed: 0</th>\n",
       "      <th>Age</th>\n",
       "      <th>Employment Type</th>\n",
       "      <th>GraduateOrNot</th>\n",
       "      <th>AnnualIncome</th>\n",
       "      <th>FamilyMembers</th>\n",
       "      <th>ChronicDiseases</th>\n",
       "      <th>FrequentFlyer</th>\n",
       "      <th>EverTravelledAbroad</th>\n",
       "      <th>TravelInsurance</th>\n",
       "    </tr>\n",
       "  </thead>\n",
       "  <tbody>\n",
       "    <tr>\n",
       "      <th>0</th>\n",
       "      <td>0</td>\n",
       "      <td>31</td>\n",
       "      <td>Government Sector</td>\n",
       "      <td>Yes</td>\n",
       "      <td>400000</td>\n",
       "      <td>6</td>\n",
       "      <td>1</td>\n",
       "      <td>No</td>\n",
       "      <td>No</td>\n",
       "      <td>0</td>\n",
       "    </tr>\n",
       "    <tr>\n",
       "      <th>1</th>\n",
       "      <td>1</td>\n",
       "      <td>31</td>\n",
       "      <td>Private Sector/Self Employed</td>\n",
       "      <td>Yes</td>\n",
       "      <td>1250000</td>\n",
       "      <td>7</td>\n",
       "      <td>0</td>\n",
       "      <td>No</td>\n",
       "      <td>No</td>\n",
       "      <td>0</td>\n",
       "    </tr>\n",
       "    <tr>\n",
       "      <th>2</th>\n",
       "      <td>2</td>\n",
       "      <td>34</td>\n",
       "      <td>Private Sector/Self Employed</td>\n",
       "      <td>Yes</td>\n",
       "      <td>500000</td>\n",
       "      <td>4</td>\n",
       "      <td>1</td>\n",
       "      <td>No</td>\n",
       "      <td>No</td>\n",
       "      <td>1</td>\n",
       "    </tr>\n",
       "    <tr>\n",
       "      <th>3</th>\n",
       "      <td>3</td>\n",
       "      <td>28</td>\n",
       "      <td>Private Sector/Self Employed</td>\n",
       "      <td>Yes</td>\n",
       "      <td>700000</td>\n",
       "      <td>3</td>\n",
       "      <td>1</td>\n",
       "      <td>No</td>\n",
       "      <td>No</td>\n",
       "      <td>0</td>\n",
       "    </tr>\n",
       "    <tr>\n",
       "      <th>4</th>\n",
       "      <td>4</td>\n",
       "      <td>28</td>\n",
       "      <td>Private Sector/Self Employed</td>\n",
       "      <td>Yes</td>\n",
       "      <td>700000</td>\n",
       "      <td>8</td>\n",
       "      <td>1</td>\n",
       "      <td>Yes</td>\n",
       "      <td>No</td>\n",
       "      <td>0</td>\n",
       "    </tr>\n",
       "  </tbody>\n",
       "</table>\n",
       "</div>"
      ],
      "text/plain": [
       "   Unnamed: 0  Age               Employment Type GraduateOrNot  AnnualIncome  \\\n",
       "0           0   31             Government Sector           Yes        400000   \n",
       "1           1   31  Private Sector/Self Employed           Yes       1250000   \n",
       "2           2   34  Private Sector/Self Employed           Yes        500000   \n",
       "3           3   28  Private Sector/Self Employed           Yes        700000   \n",
       "4           4   28  Private Sector/Self Employed           Yes        700000   \n",
       "\n",
       "   FamilyMembers  ChronicDiseases FrequentFlyer EverTravelledAbroad  \\\n",
       "0              6                1            No                  No   \n",
       "1              7                0            No                  No   \n",
       "2              4                1            No                  No   \n",
       "3              3                1            No                  No   \n",
       "4              8                1           Yes                  No   \n",
       "\n",
       "   TravelInsurance  \n",
       "0                0  \n",
       "1                0  \n",
       "2                1  \n",
       "3                0  \n",
       "4                0  "
      ]
     },
     "execution_count": 3,
     "metadata": {},
     "output_type": "execute_result"
    }
   ],
   "source": [
    "# checking the first few rows of the dataframe \n",
    "\n",
    "df.head()"
   ]
  },
  {
   "cell_type": "code",
   "execution_count": 5,
   "metadata": {},
   "outputs": [
    {
     "data": {
      "text/html": [
       "<div>\n",
       "<style scoped>\n",
       "    .dataframe tbody tr th:only-of-type {\n",
       "        vertical-align: middle;\n",
       "    }\n",
       "\n",
       "    .dataframe tbody tr th {\n",
       "        vertical-align: top;\n",
       "    }\n",
       "\n",
       "    .dataframe thead th {\n",
       "        text-align: right;\n",
       "    }\n",
       "</style>\n",
       "<table border=\"1\" class=\"dataframe\">\n",
       "  <thead>\n",
       "    <tr style=\"text-align: right;\">\n",
       "      <th></th>\n",
       "      <th>Unnamed: 0</th>\n",
       "      <th>Age</th>\n",
       "      <th>Employment Type</th>\n",
       "      <th>GraduateOrNot</th>\n",
       "      <th>AnnualIncome</th>\n",
       "      <th>FamilyMembers</th>\n",
       "      <th>ChronicDiseases</th>\n",
       "      <th>FrequentFlyer</th>\n",
       "      <th>EverTravelledAbroad</th>\n",
       "      <th>TravelInsurance</th>\n",
       "    </tr>\n",
       "  </thead>\n",
       "  <tbody>\n",
       "    <tr>\n",
       "      <th>1982</th>\n",
       "      <td>1982</td>\n",
       "      <td>33</td>\n",
       "      <td>Private Sector/Self Employed</td>\n",
       "      <td>Yes</td>\n",
       "      <td>1500000</td>\n",
       "      <td>4</td>\n",
       "      <td>0</td>\n",
       "      <td>Yes</td>\n",
       "      <td>Yes</td>\n",
       "      <td>1</td>\n",
       "    </tr>\n",
       "    <tr>\n",
       "      <th>1983</th>\n",
       "      <td>1983</td>\n",
       "      <td>28</td>\n",
       "      <td>Private Sector/Self Employed</td>\n",
       "      <td>Yes</td>\n",
       "      <td>1750000</td>\n",
       "      <td>5</td>\n",
       "      <td>1</td>\n",
       "      <td>No</td>\n",
       "      <td>Yes</td>\n",
       "      <td>0</td>\n",
       "    </tr>\n",
       "    <tr>\n",
       "      <th>1984</th>\n",
       "      <td>1984</td>\n",
       "      <td>28</td>\n",
       "      <td>Private Sector/Self Employed</td>\n",
       "      <td>Yes</td>\n",
       "      <td>1150000</td>\n",
       "      <td>6</td>\n",
       "      <td>1</td>\n",
       "      <td>No</td>\n",
       "      <td>No</td>\n",
       "      <td>0</td>\n",
       "    </tr>\n",
       "    <tr>\n",
       "      <th>1985</th>\n",
       "      <td>1985</td>\n",
       "      <td>34</td>\n",
       "      <td>Private Sector/Self Employed</td>\n",
       "      <td>Yes</td>\n",
       "      <td>1000000</td>\n",
       "      <td>6</td>\n",
       "      <td>0</td>\n",
       "      <td>Yes</td>\n",
       "      <td>Yes</td>\n",
       "      <td>1</td>\n",
       "    </tr>\n",
       "    <tr>\n",
       "      <th>1986</th>\n",
       "      <td>1986</td>\n",
       "      <td>34</td>\n",
       "      <td>Private Sector/Self Employed</td>\n",
       "      <td>Yes</td>\n",
       "      <td>500000</td>\n",
       "      <td>4</td>\n",
       "      <td>0</td>\n",
       "      <td>No</td>\n",
       "      <td>No</td>\n",
       "      <td>0</td>\n",
       "    </tr>\n",
       "  </tbody>\n",
       "</table>\n",
       "</div>"
      ],
      "text/plain": [
       "      Unnamed: 0  Age               Employment Type GraduateOrNot  \\\n",
       "1982        1982   33  Private Sector/Self Employed           Yes   \n",
       "1983        1983   28  Private Sector/Self Employed           Yes   \n",
       "1984        1984   28  Private Sector/Self Employed           Yes   \n",
       "1985        1985   34  Private Sector/Self Employed           Yes   \n",
       "1986        1986   34  Private Sector/Self Employed           Yes   \n",
       "\n",
       "      AnnualIncome  FamilyMembers  ChronicDiseases FrequentFlyer  \\\n",
       "1982       1500000              4                0           Yes   \n",
       "1983       1750000              5                1            No   \n",
       "1984       1150000              6                1            No   \n",
       "1985       1000000              6                0           Yes   \n",
       "1986        500000              4                0            No   \n",
       "\n",
       "     EverTravelledAbroad  TravelInsurance  \n",
       "1982                 Yes                1  \n",
       "1983                 Yes                0  \n",
       "1984                  No                0  \n",
       "1985                 Yes                1  \n",
       "1986                  No                0  "
      ]
     },
     "execution_count": 5,
     "metadata": {},
     "output_type": "execute_result"
    }
   ],
   "source": [
    "# checking the last few rows of the dataset\n",
    "\n",
    "df.tail()"
   ]
  },
  {
   "cell_type": "markdown",
   "metadata": {},
   "source": [
    "### **Data cleaning**\n"
   ]
  },
  {
   "cell_type": "markdown",
   "metadata": {},
   "source": [
    "In this section, we will focus on the following tasks:\n",
    "\n",
    "- Identifying and handling missing values\n",
    "- Identifying and addressing duplicated values\n",
    "- Verifying if the dataset has the expected data types for each column\n",
    "- Identifying and removing redundant columns.\n"
   ]
  },
  {
   "cell_type": "markdown",
   "metadata": {},
   "source": [
    "`1. Checking and dealing with missing values in the dataset`\n"
   ]
  },
  {
   "cell_type": "code",
   "execution_count": 6,
   "metadata": {},
   "outputs": [],
   "source": [
    "# checking if the dataset has missing values by writing a function\n",
    "\n",
    "def missing_values_percent(df):\n",
    "  df_nulls = pd.DataFrame(df.isnull().sum().sort_values(ascending=False), columns=['Missing values count'])\n",
    "  df_nulls['% of missing values'] = df.isnull().sum().sort_values(ascending=False)/len(df) \n",
    "  return df_nulls\n",
    "\n",
    "\n"
   ]
  },
  {
   "cell_type": "code",
   "execution_count": 7,
   "metadata": {},
   "outputs": [
    {
     "data": {
      "text/html": [
       "<div>\n",
       "<style scoped>\n",
       "    .dataframe tbody tr th:only-of-type {\n",
       "        vertical-align: middle;\n",
       "    }\n",
       "\n",
       "    .dataframe tbody tr th {\n",
       "        vertical-align: top;\n",
       "    }\n",
       "\n",
       "    .dataframe thead th {\n",
       "        text-align: right;\n",
       "    }\n",
       "</style>\n",
       "<table border=\"1\" class=\"dataframe\">\n",
       "  <thead>\n",
       "    <tr style=\"text-align: right;\">\n",
       "      <th></th>\n",
       "      <th>Missing values count</th>\n",
       "      <th>% of missing values</th>\n",
       "    </tr>\n",
       "  </thead>\n",
       "  <tbody>\n",
       "    <tr>\n",
       "      <th>TravelInsurance</th>\n",
       "      <td>0</td>\n",
       "      <td>0.0</td>\n",
       "    </tr>\n",
       "    <tr>\n",
       "      <th>EverTravelledAbroad</th>\n",
       "      <td>0</td>\n",
       "      <td>0.0</td>\n",
       "    </tr>\n",
       "    <tr>\n",
       "      <th>FrequentFlyer</th>\n",
       "      <td>0</td>\n",
       "      <td>0.0</td>\n",
       "    </tr>\n",
       "    <tr>\n",
       "      <th>ChronicDiseases</th>\n",
       "      <td>0</td>\n",
       "      <td>0.0</td>\n",
       "    </tr>\n",
       "    <tr>\n",
       "      <th>FamilyMembers</th>\n",
       "      <td>0</td>\n",
       "      <td>0.0</td>\n",
       "    </tr>\n",
       "    <tr>\n",
       "      <th>AnnualIncome</th>\n",
       "      <td>0</td>\n",
       "      <td>0.0</td>\n",
       "    </tr>\n",
       "    <tr>\n",
       "      <th>GraduateOrNot</th>\n",
       "      <td>0</td>\n",
       "      <td>0.0</td>\n",
       "    </tr>\n",
       "    <tr>\n",
       "      <th>Employment Type</th>\n",
       "      <td>0</td>\n",
       "      <td>0.0</td>\n",
       "    </tr>\n",
       "    <tr>\n",
       "      <th>Age</th>\n",
       "      <td>0</td>\n",
       "      <td>0.0</td>\n",
       "    </tr>\n",
       "    <tr>\n",
       "      <th>Unnamed: 0</th>\n",
       "      <td>0</td>\n",
       "      <td>0.0</td>\n",
       "    </tr>\n",
       "  </tbody>\n",
       "</table>\n",
       "</div>"
      ],
      "text/plain": [
       "                     Missing values count  % of missing values\n",
       "TravelInsurance                         0                  0.0\n",
       "EverTravelledAbroad                     0                  0.0\n",
       "FrequentFlyer                           0                  0.0\n",
       "ChronicDiseases                         0                  0.0\n",
       "FamilyMembers                           0                  0.0\n",
       "AnnualIncome                            0                  0.0\n",
       "GraduateOrNot                           0                  0.0\n",
       "Employment Type                         0                  0.0\n",
       "Age                                     0                  0.0\n",
       "Unnamed: 0                              0                  0.0"
      ]
     },
     "execution_count": 7,
     "metadata": {},
     "output_type": "execute_result"
    }
   ],
   "source": [
    "# checking missing values per column \n",
    "\n",
    "missing_values_percent(df)"
   ]
  },
  {
   "cell_type": "markdown",
   "metadata": {},
   "source": [
    "There are `no missing values` for any of the columns for the dataset\n"
   ]
  },
  {
   "cell_type": "markdown",
   "metadata": {},
   "source": [
    "`2. Checking and dealing with duplicated values in the dataset`\n"
   ]
  },
  {
   "cell_type": "code",
   "execution_count": 8,
   "metadata": {},
   "outputs": [
    {
     "data": {
      "text/plain": [
       "0"
      ]
     },
     "execution_count": 8,
     "metadata": {},
     "output_type": "execute_result"
    }
   ],
   "source": [
    "# checking for any duplicated values in the dataset \n",
    "\n",
    "df.duplicated().sum()"
   ]
  },
  {
   "cell_type": "markdown",
   "metadata": {},
   "source": [
    "There are `no duplicated valeus in the dataset`\n"
   ]
  },
  {
   "cell_type": "markdown",
   "metadata": {},
   "source": [
    "`3. Checking if dataset has the expected data types`\n"
   ]
  },
  {
   "cell_type": "code",
   "execution_count": 9,
   "metadata": {},
   "outputs": [
    {
     "name": "stdout",
     "output_type": "stream",
     "text": [
      "<class 'pandas.core.frame.DataFrame'>\n",
      "RangeIndex: 1987 entries, 0 to 1986\n",
      "Data columns (total 10 columns):\n",
      " #   Column               Non-Null Count  Dtype \n",
      "---  ------               --------------  ----- \n",
      " 0   Unnamed: 0           1987 non-null   int64 \n",
      " 1   Age                  1987 non-null   int64 \n",
      " 2   Employment Type      1987 non-null   object\n",
      " 3   GraduateOrNot        1987 non-null   object\n",
      " 4   AnnualIncome         1987 non-null   int64 \n",
      " 5   FamilyMembers        1987 non-null   int64 \n",
      " 6   ChronicDiseases      1987 non-null   int64 \n",
      " 7   FrequentFlyer        1987 non-null   object\n",
      " 8   EverTravelledAbroad  1987 non-null   object\n",
      " 9   TravelInsurance      1987 non-null   int64 \n",
      "dtypes: int64(6), object(4)\n",
      "memory usage: 155.4+ KB\n"
     ]
    }
   ],
   "source": [
    "# checking if the dataset has the expected data types \n",
    "\n",
    "df.info()"
   ]
  },
  {
   "cell_type": "markdown",
   "metadata": {},
   "source": [
    "The data types of the various columns of the dataset seem to be as expected except for Chronic diseases and Travel insurance which need to factors\n"
   ]
  },
  {
   "cell_type": "code",
   "execution_count": 5,
   "metadata": {},
   "outputs": [],
   "source": [
    "# columns to convert to factors\n",
    "\n",
    "fct_columns = ['ChronicDiseases','TravelInsurance']"
   ]
  },
  {
   "cell_type": "code",
   "execution_count": 6,
   "metadata": {},
   "outputs": [],
   "source": [
    "# converting fct columns to object type rather than in interger\n",
    "\n",
    "df[fct_columns] = df[fct_columns].astype(str)"
   ]
  },
  {
   "cell_type": "markdown",
   "metadata": {},
   "source": [
    "`4. Checking and dealing with redudant columns in the dataset`\n"
   ]
  },
  {
   "cell_type": "code",
   "execution_count": 26,
   "metadata": {},
   "outputs": [
    {
     "name": "stdout",
     "output_type": "stream",
     "text": [
      "<class 'pandas.core.frame.DataFrame'>\n",
      "RangeIndex: 1987 entries, 0 to 1986\n",
      "Data columns (total 10 columns):\n",
      " #   Column               Non-Null Count  Dtype \n",
      "---  ------               --------------  ----- \n",
      " 0   Unnamed: 0           1987 non-null   int64 \n",
      " 1   Age                  1987 non-null   int64 \n",
      " 2   Employment Type      1987 non-null   object\n",
      " 3   GraduateOrNot        1987 non-null   object\n",
      " 4   AnnualIncome         1987 non-null   int64 \n",
      " 5   FamilyMembers        1987 non-null   int64 \n",
      " 6   ChronicDiseases      1987 non-null   object\n",
      " 7   FrequentFlyer        1987 non-null   object\n",
      " 8   EverTravelledAbroad  1987 non-null   object\n",
      " 9   TravelInsurance      1987 non-null   object\n",
      "dtypes: int64(4), object(6)\n",
      "memory usage: 155.4+ KB\n"
     ]
    }
   ],
   "source": [
    "# checking columns and removing any redudant column from the dataset \n",
    "\n",
    "df.info()"
   ]
  },
  {
   "cell_type": "markdown",
   "metadata": {},
   "source": [
    "From the llok of things, it seems that the Column `Unnamed:0` only acts as an index for the records in the dataset and does not provide any meaniful information.\n"
   ]
  },
  {
   "cell_type": "code",
   "execution_count": 7,
   "metadata": {},
   "outputs": [],
   "source": [
    "# dropping redudant column \n",
    "\n",
    "df = df.drop('Unnamed: 0', axis=1)"
   ]
  },
  {
   "cell_type": "code",
   "execution_count": 8,
   "metadata": {},
   "outputs": [
    {
     "data": {
      "text/html": [
       "<div>\n",
       "<style scoped>\n",
       "    .dataframe tbody tr th:only-of-type {\n",
       "        vertical-align: middle;\n",
       "    }\n",
       "\n",
       "    .dataframe tbody tr th {\n",
       "        vertical-align: top;\n",
       "    }\n",
       "\n",
       "    .dataframe thead th {\n",
       "        text-align: right;\n",
       "    }\n",
       "</style>\n",
       "<table border=\"1\" class=\"dataframe\">\n",
       "  <thead>\n",
       "    <tr style=\"text-align: right;\">\n",
       "      <th></th>\n",
       "      <th>Age</th>\n",
       "      <th>Employment Type</th>\n",
       "      <th>GraduateOrNot</th>\n",
       "      <th>AnnualIncome</th>\n",
       "      <th>FamilyMembers</th>\n",
       "      <th>ChronicDiseases</th>\n",
       "      <th>FrequentFlyer</th>\n",
       "      <th>EverTravelledAbroad</th>\n",
       "      <th>TravelInsurance</th>\n",
       "    </tr>\n",
       "  </thead>\n",
       "  <tbody>\n",
       "    <tr>\n",
       "      <th>0</th>\n",
       "      <td>31</td>\n",
       "      <td>Government Sector</td>\n",
       "      <td>Yes</td>\n",
       "      <td>400000</td>\n",
       "      <td>6</td>\n",
       "      <td>1</td>\n",
       "      <td>No</td>\n",
       "      <td>No</td>\n",
       "      <td>0</td>\n",
       "    </tr>\n",
       "    <tr>\n",
       "      <th>1</th>\n",
       "      <td>31</td>\n",
       "      <td>Private Sector/Self Employed</td>\n",
       "      <td>Yes</td>\n",
       "      <td>1250000</td>\n",
       "      <td>7</td>\n",
       "      <td>0</td>\n",
       "      <td>No</td>\n",
       "      <td>No</td>\n",
       "      <td>0</td>\n",
       "    </tr>\n",
       "    <tr>\n",
       "      <th>2</th>\n",
       "      <td>34</td>\n",
       "      <td>Private Sector/Self Employed</td>\n",
       "      <td>Yes</td>\n",
       "      <td>500000</td>\n",
       "      <td>4</td>\n",
       "      <td>1</td>\n",
       "      <td>No</td>\n",
       "      <td>No</td>\n",
       "      <td>1</td>\n",
       "    </tr>\n",
       "    <tr>\n",
       "      <th>3</th>\n",
       "      <td>28</td>\n",
       "      <td>Private Sector/Self Employed</td>\n",
       "      <td>Yes</td>\n",
       "      <td>700000</td>\n",
       "      <td>3</td>\n",
       "      <td>1</td>\n",
       "      <td>No</td>\n",
       "      <td>No</td>\n",
       "      <td>0</td>\n",
       "    </tr>\n",
       "    <tr>\n",
       "      <th>4</th>\n",
       "      <td>28</td>\n",
       "      <td>Private Sector/Self Employed</td>\n",
       "      <td>Yes</td>\n",
       "      <td>700000</td>\n",
       "      <td>8</td>\n",
       "      <td>1</td>\n",
       "      <td>Yes</td>\n",
       "      <td>No</td>\n",
       "      <td>0</td>\n",
       "    </tr>\n",
       "  </tbody>\n",
       "</table>\n",
       "</div>"
      ],
      "text/plain": [
       "   Age               Employment Type GraduateOrNot  AnnualIncome  \\\n",
       "0   31             Government Sector           Yes        400000   \n",
       "1   31  Private Sector/Self Employed           Yes       1250000   \n",
       "2   34  Private Sector/Self Employed           Yes        500000   \n",
       "3   28  Private Sector/Self Employed           Yes        700000   \n",
       "4   28  Private Sector/Self Employed           Yes        700000   \n",
       "\n",
       "   FamilyMembers ChronicDiseases FrequentFlyer EverTravelledAbroad  \\\n",
       "0              6               1            No                  No   \n",
       "1              7               0            No                  No   \n",
       "2              4               1            No                  No   \n",
       "3              3               1            No                  No   \n",
       "4              8               1           Yes                  No   \n",
       "\n",
       "  TravelInsurance  \n",
       "0               0  \n",
       "1               0  \n",
       "2               1  \n",
       "3               0  \n",
       "4               0  "
      ]
     },
     "execution_count": 8,
     "metadata": {},
     "output_type": "execute_result"
    }
   ],
   "source": [
    "# checking the first few rows of the new dataset without redudant column\n",
    "\n",
    "df.head()"
   ]
  },
  {
   "cell_type": "markdown",
   "metadata": {},
   "source": [
    "## **EXPLORATORY DATA ANALYSIS**\n"
   ]
  },
  {
   "cell_type": "markdown",
   "metadata": {},
   "source": [
    "---\n"
   ]
  },
  {
   "cell_type": "markdown",
   "metadata": {},
   "source": [
    "---\n"
   ]
  },
  {
   "cell_type": "markdown",
   "metadata": {},
   "source": [
    "### **UNIVARIATE ANALYSIS**\n"
   ]
  },
  {
   "cell_type": "code",
   "execution_count": 20,
   "metadata": {},
   "outputs": [
    {
     "data": {
      "image/png": "[encoded data removed]",
      "text/plain": [
       "<Figure size 576x432 with 1 Axes>"
      ]
     },
     "metadata": {},
     "output_type": "display_data"
    }
   ],
   "source": [
    "# checking the distribution of age\n",
    "\n",
    "plt.figure(figsize=(8,6))\n",
    "sns.boxplot(x=\"Age\", color=\"firebrick\", data=df)\n",
    "plt.title(\"Distribution of age\")\n",
    "plt.show()"
   ]
  },
  {
   "cell_type": "code",
   "execution_count": 29,
   "metadata": {},
   "outputs": [
    {
     "data": {
      "image/png": "[encoded data removed]",
      "text/plain": [
       "<Figure size 576x432 with 1 Axes>"
      ]
     },
     "metadata": {},
     "output_type": "display_data"
    }
   ],
   "source": [
    "# checking the distribution of family members\n",
    "\n",
    "plt.figure(figsize=(8,6))\n",
    "sns.boxplot(x=\"FamilyMembers\", color=\"coral\", data=df)\n",
    "plt.title(\"Distribution of FamilyMembers\")\n",
    "plt.show()"
   ]
  },
  {
   "cell_type": "code",
   "execution_count": 30,
   "metadata": {},
   "outputs": [
    {
     "data": {
      "image/png": "[encoded data removed]",
      "text/plain": [
       "<Figure size 576x432 with 1 Axes>"
      ]
     },
     "metadata": {},
     "output_type": "display_data"
    }
   ],
   "source": [
    "# checking the distribution of AnnualIncome\n",
    "\n",
    "plt.figure(figsize=(8,6))\n",
    "sns.boxplot(x=\"AnnualIncome\", color=\"khaki\", data=df)\n",
    "plt.title(\"Distribution of AnnualIncome\")\n",
    "plt.show()"
   ]
  },
  {
   "cell_type": "code",
   "execution_count": 31,
   "metadata": {},
   "outputs": [
    {
     "data": {
      "image/png": "[encoded data removed]",
      "text/plain": [
       "<Figure size 576x432 with 1 Axes>"
      ]
     },
     "metadata": {},
     "output_type": "display_data"
    }
   ],
   "source": [
    "# Employment type\n",
    "\n",
    "plt.figure(figsize=(8, 6))\n",
    "sns.countplot(x=\"Employment Type\", data=df)\n",
    "plt.title('Employment Type')\n",
    "plt.show()"
   ]
  },
  {
   "cell_type": "code",
   "execution_count": 32,
   "metadata": {},
   "outputs": [
    {
     "data": {
      "image/png": "[encoded data removed]",
      "text/plain": [
       "<Figure size 576x432 with 1 Axes>"
      ]
     },
     "metadata": {},
     "output_type": "display_data"
    }
   ],
   "source": [
    "# GraduateOrNot\n",
    "\n",
    "plt.figure(figsize=(8, 6))\n",
    "sns.countplot(x=\"GraduateOrNot\", data=df)\n",
    "plt.title('GraduateOrNot')\n",
    "plt.show()"
   ]
  },
  {
   "cell_type": "code",
   "execution_count": 33,
   "metadata": {},
   "outputs": [
    {
     "data": {
      "image/png": "[encoded data removed]",
      "text/plain": [
       "<Figure size 576x432 with 1 Axes>"
      ]
     },
     "metadata": {},
     "output_type": "display_data"
    }
   ],
   "source": [
    "# ChronicDiseases\n",
    "\n",
    "plt.figure(figsize=(8, 6))\n",
    "sns.countplot(x=\"ChronicDiseases\", data=df)\n",
    "plt.title('ChronicDiseases')\n",
    "plt.show()"
   ]
  },
  {
   "cell_type": "code",
   "execution_count": 34,
   "metadata": {},
   "outputs": [
    {
     "data": {
      "image/png": "[encoded data removed]",
      "text/plain": [
       "<Figure size 576x432 with 1 Axes>"
      ]
     },
     "metadata": {},
     "output_type": "display_data"
    }
   ],
   "source": [
    "# FrequentFlyer\n",
    "\n",
    "plt.figure(figsize=(8, 6))\n",
    "sns.countplot(x=\"FrequentFlyer\", data=df)\n",
    "plt.title('FrequentFlyer')\n",
    "plt.show()"
   ]
  },
  {
   "cell_type": "code",
   "execution_count": 35,
   "metadata": {},
   "outputs": [
    {
     "data": {
      "image/png": "[encoded data removed]",
      "text/plain": [
       "<Figure size 576x432 with 1 Axes>"
      ]
     },
     "metadata": {},
     "output_type": "display_data"
    }
   ],
   "source": [
    "# EverTravelledAbroad\n",
    "\n",
    "plt.figure(figsize=(8, 6))\n",
    "sns.countplot(x=\"EverTravelledAbroad\", data=df)\n",
    "plt.title('EverTravelledAbroad')\n",
    "plt.show()"
   ]
  },
  {
   "cell_type": "code",
   "execution_count": 36,
   "metadata": {},
   "outputs": [
    {
     "data": {
      "image/png": "[encoded data removed]",
      "text/plain": [
       "<Figure size 576x432 with 1 Axes>"
      ]
     },
     "metadata": {},
     "output_type": "display_data"
    }
   ],
   "source": [
    "# travel insurance \n",
    "\n",
    "travelinsurance_counts = df['TravelInsurance'].value_counts().reset_index()\n",
    "travelinsurance_counts.columns = ['Category', 'Count']\n",
    "\n",
    "#  pie chart \n",
    "plt.figure(figsize=(8, 6))\n",
    "plt.pie(travelinsurance_counts['Count'], labels=travelinsurance_counts['Category'], autopct='%1.1f%%')\n",
    "plt.title('Travelinsurance Pie Chart')\n",
    "plt.show()"
   ]
  },
  {
   "cell_type": "code",
   "execution_count": 56,
   "metadata": {},
   "outputs": [
    {
     "data": {
      "text/html": [
       "<div>\n",
       "<style scoped>\n",
       "    .dataframe tbody tr th:only-of-type {\n",
       "        vertical-align: middle;\n",
       "    }\n",
       "\n",
       "    .dataframe tbody tr th {\n",
       "        vertical-align: top;\n",
       "    }\n",
       "\n",
       "    .dataframe thead th {\n",
       "        text-align: right;\n",
       "    }\n",
       "</style>\n",
       "<table border=\"1\" class=\"dataframe\">\n",
       "  <thead>\n",
       "    <tr style=\"text-align: right;\">\n",
       "      <th></th>\n",
       "      <th>Age</th>\n",
       "      <th>Employment Type</th>\n",
       "      <th>GraduateOrNot</th>\n",
       "      <th>AnnualIncome</th>\n",
       "      <th>FamilyMembers</th>\n",
       "      <th>ChronicDiseases</th>\n",
       "      <th>FrequentFlyer</th>\n",
       "      <th>EverTravelledAbroad</th>\n",
       "      <th>TravelInsurance</th>\n",
       "    </tr>\n",
       "  </thead>\n",
       "  <tbody>\n",
       "    <tr>\n",
       "      <th>count</th>\n",
       "      <td>1987.000000</td>\n",
       "      <td>1987</td>\n",
       "      <td>1987</td>\n",
       "      <td>1.987000e+03</td>\n",
       "      <td>1987.000000</td>\n",
       "      <td>1987</td>\n",
       "      <td>1987</td>\n",
       "      <td>1987</td>\n",
       "      <td>1987</td>\n",
       "    </tr>\n",
       "    <tr>\n",
       "      <th>unique</th>\n",
       "      <td>NaN</td>\n",
       "      <td>2</td>\n",
       "      <td>2</td>\n",
       "      <td>NaN</td>\n",
       "      <td>NaN</td>\n",
       "      <td>2</td>\n",
       "      <td>2</td>\n",
       "      <td>2</td>\n",
       "      <td>2</td>\n",
       "    </tr>\n",
       "    <tr>\n",
       "      <th>top</th>\n",
       "      <td>NaN</td>\n",
       "      <td>Private Sector/Self Employed</td>\n",
       "      <td>Yes</td>\n",
       "      <td>NaN</td>\n",
       "      <td>NaN</td>\n",
       "      <td>0</td>\n",
       "      <td>No</td>\n",
       "      <td>No</td>\n",
       "      <td>0</td>\n",
       "    </tr>\n",
       "    <tr>\n",
       "      <th>freq</th>\n",
       "      <td>NaN</td>\n",
       "      <td>1417</td>\n",
       "      <td>1692</td>\n",
       "      <td>NaN</td>\n",
       "      <td>NaN</td>\n",
       "      <td>1435</td>\n",
       "      <td>1570</td>\n",
       "      <td>1607</td>\n",
       "      <td>1277</td>\n",
       "    </tr>\n",
       "    <tr>\n",
       "      <th>mean</th>\n",
       "      <td>29.650226</td>\n",
       "      <td>NaN</td>\n",
       "      <td>NaN</td>\n",
       "      <td>9.327630e+05</td>\n",
       "      <td>4.752894</td>\n",
       "      <td>NaN</td>\n",
       "      <td>NaN</td>\n",
       "      <td>NaN</td>\n",
       "      <td>NaN</td>\n",
       "    </tr>\n",
       "    <tr>\n",
       "      <th>std</th>\n",
       "      <td>2.913308</td>\n",
       "      <td>NaN</td>\n",
       "      <td>NaN</td>\n",
       "      <td>3.768557e+05</td>\n",
       "      <td>1.609650</td>\n",
       "      <td>NaN</td>\n",
       "      <td>NaN</td>\n",
       "      <td>NaN</td>\n",
       "      <td>NaN</td>\n",
       "    </tr>\n",
       "    <tr>\n",
       "      <th>min</th>\n",
       "      <td>25.000000</td>\n",
       "      <td>NaN</td>\n",
       "      <td>NaN</td>\n",
       "      <td>3.000000e+05</td>\n",
       "      <td>2.000000</td>\n",
       "      <td>NaN</td>\n",
       "      <td>NaN</td>\n",
       "      <td>NaN</td>\n",
       "      <td>NaN</td>\n",
       "    </tr>\n",
       "    <tr>\n",
       "      <th>25%</th>\n",
       "      <td>28.000000</td>\n",
       "      <td>NaN</td>\n",
       "      <td>NaN</td>\n",
       "      <td>6.000000e+05</td>\n",
       "      <td>4.000000</td>\n",
       "      <td>NaN</td>\n",
       "      <td>NaN</td>\n",
       "      <td>NaN</td>\n",
       "      <td>NaN</td>\n",
       "    </tr>\n",
       "    <tr>\n",
       "      <th>50%</th>\n",
       "      <td>29.000000</td>\n",
       "      <td>NaN</td>\n",
       "      <td>NaN</td>\n",
       "      <td>9.000000e+05</td>\n",
       "      <td>5.000000</td>\n",
       "      <td>NaN</td>\n",
       "      <td>NaN</td>\n",
       "      <td>NaN</td>\n",
       "      <td>NaN</td>\n",
       "    </tr>\n",
       "    <tr>\n",
       "      <th>75%</th>\n",
       "      <td>32.000000</td>\n",
       "      <td>NaN</td>\n",
       "      <td>NaN</td>\n",
       "      <td>1.250000e+06</td>\n",
       "      <td>6.000000</td>\n",
       "      <td>NaN</td>\n",
       "      <td>NaN</td>\n",
       "      <td>NaN</td>\n",
       "      <td>NaN</td>\n",
       "    </tr>\n",
       "    <tr>\n",
       "      <th>max</th>\n",
       "      <td>35.000000</td>\n",
       "      <td>NaN</td>\n",
       "      <td>NaN</td>\n",
       "      <td>1.800000e+06</td>\n",
       "      <td>9.000000</td>\n",
       "      <td>NaN</td>\n",
       "      <td>NaN</td>\n",
       "      <td>NaN</td>\n",
       "      <td>NaN</td>\n",
       "    </tr>\n",
       "  </tbody>\n",
       "</table>\n",
       "</div>"
      ],
      "text/plain": [
       "                Age               Employment Type GraduateOrNot  AnnualIncome  \\\n",
       "count   1987.000000                          1987          1987  1.987000e+03   \n",
       "unique          NaN                             2             2           NaN   \n",
       "top             NaN  Private Sector/Self Employed           Yes           NaN   \n",
       "freq            NaN                          1417          1692           NaN   \n",
       "mean      29.650226                           NaN           NaN  9.327630e+05   \n",
       "std        2.913308                           NaN           NaN  3.768557e+05   \n",
       "min       25.000000                           NaN           NaN  3.000000e+05   \n",
       "25%       28.000000                           NaN           NaN  6.000000e+05   \n",
       "50%       29.000000                           NaN           NaN  9.000000e+05   \n",
       "75%       32.000000                           NaN           NaN  1.250000e+06   \n",
       "max       35.000000                           NaN           NaN  1.800000e+06   \n",
       "\n",
       "        FamilyMembers ChronicDiseases FrequentFlyer EverTravelledAbroad  \\\n",
       "count     1987.000000            1987          1987                1987   \n",
       "unique            NaN               2             2                   2   \n",
       "top               NaN               0            No                  No   \n",
       "freq              NaN            1435          1570                1607   \n",
       "mean         4.752894             NaN           NaN                 NaN   \n",
       "std          1.609650             NaN           NaN                 NaN   \n",
       "min          2.000000             NaN           NaN                 NaN   \n",
       "25%          4.000000             NaN           NaN                 NaN   \n",
       "50%          5.000000             NaN           NaN                 NaN   \n",
       "75%          6.000000             NaN           NaN                 NaN   \n",
       "max          9.000000             NaN           NaN                 NaN   \n",
       "\n",
       "       TravelInsurance  \n",
       "count             1987  \n",
       "unique               2  \n",
       "top                  0  \n",
       "freq              1277  \n",
       "mean               NaN  \n",
       "std                NaN  \n",
       "min                NaN  \n",
       "25%                NaN  \n",
       "50%                NaN  \n",
       "75%                NaN  \n",
       "max                NaN  "
      ]
     },
     "execution_count": 56,
     "metadata": {},
     "output_type": "execute_result"
    }
   ],
   "source": [
    "# dataframe summary \n",
    "\n",
    "df.describe(include=\"all\")"
   ]
  },
  {
   "cell_type": "markdown",
   "metadata": {},
   "source": [
    "- The age of these individuals ranges from 25 to 35 years, with an average age of approximately 29.65 years and a standard deviation of about 2.91.\n",
    "\n",
    "- In terms of employment, the majority (1417 out of 1987) are in the private sector or self-employed. Regarding education, most individuals (1692 out of 1987) are graduates.\n",
    "\n",
    "- The annual income of these individuals varies widely, with the lowest being 300,000 and the highest being 1,800,000 . The average annual income is approximately 932,763 , with a standard deviation of about 376,856 .\n",
    "\n",
    "- Family sizes range from 2 to 9 members, with an average of approximately 4.75 members per family and a standard deviation of about 1.61.\n",
    "\n",
    "- Concerning health, 1435 individuals report having no chronic diseases, while the remaining 552 individuals indicate the presence of at least one chronic condition.\n",
    "\n",
    "- When it comes to travel behavior, the majority (1607 out of 1987) have not traveled abroad. Additionally, most individuals (1570 out of 1987) do not have a history of frequent air travel.\n",
    "\n",
    "- Lastly, in terms of travel insurance, a considerable portion (1277 out of 1987) 64.3% did not purchase a travel insurance package during the introductory offering held in the year 2019 with only 35.7% buying the travel insurance.\n"
   ]
  },
  {
   "cell_type": "markdown",
   "metadata": {},
   "source": [
    "### **BIVARIATE ANALYSIS**\n"
   ]
  },
  {
   "cell_type": "code",
   "execution_count": 44,
   "metadata": {},
   "outputs": [
    {
     "data": {
      "image/png": "[encoded data removed]",
      "text/plain": [
       "<Figure size 576x432 with 1 Axes>"
      ]
     },
     "metadata": {},
     "output_type": "display_data"
    }
   ],
   "source": [
    "# travelinsurance vs employment type \n",
    "\n",
    "\n",
    "plt.figure(figsize=(8,6))\n",
    "counts = df.groupby(['TravelInsurance', 'Employment Type']).size().reset_index(name='counts')\n",
    "pivot = counts.pivot(\"TravelInsurance\", \"Employment Type\", \"counts\")\n",
    "\n",
    "# Calculate percentages\n",
    "total_counts = counts['counts'].sum()\n",
    "pivot_percentages = (pivot / total_counts) * 100\n",
    "\n",
    "sns.heatmap(pivot_percentages, annot=True, cmap=\"Greens\", linewidths=2, fmt=\".2f\", cbar=False)\n",
    "plt.title(\"TravelInsurance vs Employment Type\")\n",
    "plt.show()\n"
   ]
  },
  {
   "cell_type": "markdown",
   "metadata": {},
   "source": [
    "From the heatmap, it is clear that most people who bought the travelInsurance where from the private sector(28%) with only 7% of the total being from government sector. However, there was around 42.63% of the costumers from the private sector who did not buy the insurance and 21.64% from the public sector.\n"
   ]
  },
  {
   "cell_type": "code",
   "execution_count": 45,
   "metadata": {},
   "outputs": [
    {
     "data": {
      "image/png": "[encoded data removed]",
      "text/plain": [
       "<Figure size 576x432 with 1 Axes>"
      ]
     },
     "metadata": {},
     "output_type": "display_data"
    }
   ],
   "source": [
    "# travelinsuarance vs GraduateOrNot\n",
    "\n",
    "\n",
    "plt.figure(figsize=(8,6))\n",
    "counts = df.groupby(['TravelInsurance', 'GraduateOrNot']).size().reset_index(name='counts')\n",
    "pivot = counts.pivot(\"TravelInsurance\", \"GraduateOrNot\", \"counts\")\n",
    "\n",
    "# Calculate percentages\n",
    "total_counts = counts['counts'].sum()\n",
    "pivot_percentages = (pivot / total_counts) * 100\n",
    "\n",
    "sns.heatmap(pivot_percentages, annot=True, cmap=\"Reds\", linewidths=2, fmt=\".2f\", cbar=False)\n",
    "plt.title(\"TravelInsurance vs GraduateOrNot\")\n",
    "plt.show()\n"
   ]
  },
  {
   "cell_type": "markdown",
   "metadata": {},
   "source": [
    "Accodring to the heatmap, 30.75% of the customers bought insurance and were graduates compared to 4.98 who were not graduates. However, there were about 54.40% of customers who were indeed graduates but did not buy the insurance.\n"
   ]
  },
  {
   "cell_type": "code",
   "execution_count": 48,
   "metadata": {},
   "outputs": [
    {
     "data": {
      "image/png": "[encoded data removed]",
      "text/plain": [
       "<Figure size 576x432 with 1 Axes>"
      ]
     },
     "metadata": {},
     "output_type": "display_data"
    }
   ],
   "source": [
    "\n",
    "# travelinsuarance vs ChronicDiseases\n",
    "\n",
    "\n",
    "plt.figure(figsize=(8,6))\n",
    "counts = df.groupby(['TravelInsurance', 'ChronicDiseases']).size().reset_index(name='counts')\n",
    "pivot = counts.pivot(\"TravelInsurance\", \"ChronicDiseases\", \"counts\")\n",
    "\n",
    "# Calculate percentages\n",
    "total_counts = counts['counts'].sum()\n",
    "pivot_percentages = (pivot / total_counts) * 100\n",
    "\n",
    "sns.heatmap(pivot_percentages, annot=True, cmap=\"Accent\", linewidths=2, fmt=\".2f\", cbar=False)\n",
    "plt.title(\"TravelInsurance vs ChronicDiseases\")\n",
    "plt.show()"
   ]
  },
  {
   "cell_type": "markdown",
   "metadata": {},
   "source": [
    "Only 10% of the customers had chronic diseases and also purchased travelinsurance compared to 25% who did not have chronic diseases. It was also clear that around 46% of the customers did not have chronic and did not purchase travel insurance.\n"
   ]
  },
  {
   "cell_type": "code",
   "execution_count": 49,
   "metadata": {},
   "outputs": [
    {
     "data": {
      "image/png": "[encoded data removed]",
      "text/plain": [
       "<Figure size 576x432 with 1 Axes>"
      ]
     },
     "metadata": {},
     "output_type": "display_data"
    }
   ],
   "source": [
    "# travelinsuarance vs FrequentFlyer\n",
    "\n",
    "\n",
    "plt.figure(figsize=(8,6))\n",
    "counts = df.groupby(['TravelInsurance', 'FrequentFlyer']).size().reset_index(name='counts')\n",
    "pivot = counts.pivot(\"TravelInsurance\", \"FrequentFlyer\", \"counts\")\n",
    "\n",
    "# Calculate percentages\n",
    "total_counts = counts['counts'].sum()\n",
    "pivot_percentages = (pivot / total_counts) * 100\n",
    "\n",
    "sns.heatmap(pivot_percentages, annot=True, cmap=\"Accent_r\", linewidths=2, fmt=\".2f\", cbar=False)\n",
    "plt.title(\"TravelInsurance vs FrequentFlyer\")\n",
    "plt.show()"
   ]
  },
  {
   "cell_type": "markdown",
   "metadata": {},
   "source": [
    "Only 12% of the customers were frequant flyers and also bought travel insurance with 23.70% of them been not frequent flyers. Additionally, around 55% of the customers did not buy the insurance and were also not frequent flyers.\n"
   ]
  },
  {
   "cell_type": "code",
   "execution_count": 50,
   "metadata": {},
   "outputs": [
    {
     "data": {
      "image/png": "[encoded data removed]",
      "text/plain": [
       "<Figure size 576x432 with 1 Axes>"
      ]
     },
     "metadata": {},
     "output_type": "display_data"
    }
   ],
   "source": [
    "# travelinsuarance vs EverTravelledAbroad\n",
    "\n",
    "\n",
    "plt.figure(figsize=(8,6))\n",
    "counts = df.groupby(['TravelInsurance', 'EverTravelledAbroad']).size().reset_index(name='counts')\n",
    "pivot = counts.pivot(\"TravelInsurance\", \"EverTravelledAbroad\", \"counts\")\n",
    "\n",
    "# Calculate percentages\n",
    "total_counts = counts['counts'].sum()\n",
    "pivot_percentages = (pivot / total_counts) * 100\n",
    "\n",
    "sns.heatmap(pivot_percentages, annot=True, cmap=\"Pastel1\", linewidths=2, fmt=\".2f\", cbar=False)\n",
    "plt.title(\"TravelInsurance vs EverTravelledAbroad\")\n",
    "plt.show()"
   ]
  },
  {
   "cell_type": "markdown",
   "metadata": {},
   "source": [
    "Only 15% of the customers had travelled abroad and purchased the insurance package. On the other hand, 20.73% of the customers had not travelled abroad yet they had purchased the package. Approximately 60% of the customers had not travelled abroad and also not purchased the travel insurance package.\n"
   ]
  },
  {
   "cell_type": "markdown",
   "metadata": {},
   "source": [
    "### **MULTIVARIATE ANALYSIS**\n"
   ]
  },
  {
   "cell_type": "code",
   "execution_count": 52,
   "metadata": {},
   "outputs": [
    {
     "data": {
      "image/png": "[encoded data removed]",
      "text/plain": [
       "<Figure size 576x432 with 1 Axes>"
      ]
     },
     "metadata": {},
     "output_type": "display_data"
    }
   ],
   "source": [
    "# Age vs Annual income for travelinsurance\n",
    "\n",
    "plt.figure(figsize=(8,6))\n",
    "sns.scatterplot(x=\"Age\", y=\"AnnualIncome\", hue=\"TravelInsurance\", data=df)\n",
    "plt.show()"
   ]
  },
  {
   "cell_type": "markdown",
   "metadata": {},
   "source": [
    "It seemed as thought there is no apparent relationship between age, annual income and purchase of annual travel insurance.\n"
   ]
  },
  {
   "cell_type": "code",
   "execution_count": 53,
   "metadata": {},
   "outputs": [
    {
     "data": {
      "image/png": "[encoded data removed]",
      "text/plain": [
       "<Figure size 576x432 with 1 Axes>"
      ]
     },
     "metadata": {},
     "output_type": "display_data"
    }
   ],
   "source": [
    "# Annual income vs familymembers for travelinsurance\n",
    "\n",
    "plt.figure(figsize=(8,6))\n",
    "sns.scatterplot(x=\"FamilyMembers\", y=\"AnnualIncome\", hue=\"TravelInsurance\", data=df)\n",
    "plt.show()"
   ]
  },
  {
   "cell_type": "markdown",
   "metadata": {},
   "source": [
    "The scatterplot above suggests that people with incomes above 130,000 were more likely to buy travel insurance compared to other groups.\n"
   ]
  },
  {
   "cell_type": "markdown",
   "metadata": {},
   "source": [
    "## **MODELLING**\n"
   ]
  },
  {
   "cell_type": "markdown",
   "metadata": {},
   "source": [
    "---\n"
   ]
  },
  {
   "cell_type": "markdown",
   "metadata": {},
   "source": [
    "---\n"
   ]
  },
  {
   "cell_type": "markdown",
   "metadata": {},
   "source": [
    "To determine the optimal model, we will follow this approach:\n",
    "\n",
    "1. Oversampling for minority class using SMOTE\n",
    "\n",
    "2. Establishing a baseline using logistic regression as a benchmark.\n",
    "\n",
    "3. Exploring alternative models including random forest classifier, support vector classifier, Adaboost classifier, and XGBoost classifier.\n",
    "\n",
    "4. Fine-tuning the hyperparameters of the top-performing model, considering both prediction accuracy and recall.\n",
    "\n",
    "5. Evaluating the performance of both the default and tuned versions of the best models, and selecting the most effective model to address the business objective.\n"
   ]
  },
  {
   "cell_type": "code",
   "execution_count": 9,
   "metadata": {},
   "outputs": [],
   "source": [
    "# splitting data to features and target\n",
    "\n",
    "X = df.drop(\"TravelInsurance\", axis=1)\n",
    "\n",
    "y = df[\"TravelInsurance\"].map({'1':1,'0':0})\n",
    "\n"
   ]
  },
  {
   "cell_type": "code",
   "execution_count": 10,
   "metadata": {},
   "outputs": [],
   "source": [
    "# splitting data to training and testing (80% training) and (20% testing)\n",
    "\n",
    "X_train, X_test, y_train, y_test = train_test_split(X, y, test_size=0.2, random_state=42)"
   ]
  },
  {
   "cell_type": "code",
   "execution_count": 11,
   "metadata": {},
   "outputs": [],
   "source": [
    "column_fct =[\"ChronicDiseases\"]"
   ]
  },
  {
   "cell_type": "code",
   "execution_count": 12,
   "metadata": {},
   "outputs": [],
   "source": [
    "# creating a custom function for converting data types \n",
    "\n",
    "def to_object_type(df, columns):\n",
    "    df[columns] = df[columns].astype(str)\n",
    "    return df\n"
   ]
  },
  {
   "cell_type": "code",
   "execution_count": 13,
   "metadata": {},
   "outputs": [],
   "source": [
    "# create a custom class for converting the chronic diseases to a factor variable\n",
    "\n",
    "\n",
    "class ConvertColumnsTransformer(BaseEstimator, TransformerMixin):\n",
    "    def __init__(self):\n",
    "        pass\n",
    "\n",
    "    def fit(self, X, y=None):\n",
    "        return self\n",
    "\n",
    "    def transform(self, X):\n",
    "        X = to_object_type(X, columns=column_fct)\n",
    "        return X"
   ]
  },
  {
   "cell_type": "code",
   "execution_count": 14,
   "metadata": {},
   "outputs": [],
   "source": [
    "# creating of a list of categorical columns and numeric columns for data preprocessing\n",
    "\n",
    "categorical_cols = [\"Employment Type\",\"GraduateOrNot\",\"ChronicDiseases\",\"FrequentFlyer\",\"EverTravelledAbroad\"]\n",
    "\n",
    "numeric_cols = [\"Age\",\"AnnualIncome\",\"FamilyMembers\"]"
   ]
  },
  {
   "cell_type": "code",
   "execution_count": 15,
   "metadata": {},
   "outputs": [],
   "source": [
    "# create a preprocessing column transformers \n",
    "\n",
    "preprocessor = ColumnTransformer(\n",
    "    transformers=[\n",
    "        ('convert_columns', ConvertColumnsTransformer(),column_fct),\n",
    "        ('scaler', StandardScaler(), numeric_cols),\n",
    "        ('ohe', OneHotEncoder(), categorical_cols)\n",
    "    ],\n",
    "    remainder='passthrough'  \n",
    ")"
   ]
  },
  {
   "cell_type": "code",
   "execution_count": 16,
   "metadata": {},
   "outputs": [],
   "source": [
    "# building a preprocessing pipeline with column transformers \n",
    "\n",
    "pipeline = Pipeline(steps=[\n",
    "    ('preprocessor', preprocessor)])\n",
    "\n"
   ]
  },
  {
   "cell_type": "code",
   "execution_count": 17,
   "metadata": {},
   "outputs": [],
   "source": [
    "# fitting and transforming to the training set\n",
    "\n",
    "X_train_preprocessed = pipeline.fit_transform(X_train)"
   ]
  },
  {
   "cell_type": "code",
   "execution_count": 24,
   "metadata": {},
   "outputs": [
    {
     "data": {
      "text/plain": [
       "Pipeline(steps=[('preprocessor',\n",
       "                 ColumnTransformer(remainder='passthrough',\n",
       "                                   transformers=[('convert_columns',\n",
       "                                                  ConvertColumnsTransformer(),\n",
       "                                                  ['ChronicDiseases']),\n",
       "                                                 ('scaler', StandardScaler(),\n",
       "                                                  ['Age', 'AnnualIncome',\n",
       "                                                   'FamilyMembers']),\n",
       "                                                 ('ohe', OneHotEncoder(),\n",
       "                                                  ['Employment Type',\n",
       "                                                   'GraduateOrNot',\n",
       "                                                   'ChronicDiseases',\n",
       "                                                   'FrequentFlyer',\n",
       "                                                   'EverTravelledAbroad'])]))])"
      ]
     },
     "execution_count": 24,
     "metadata": {},
     "output_type": "execute_result"
    }
   ],
   "source": [
    "pipeline"
   ]
  },
  {
   "cell_type": "markdown",
   "metadata": {},
   "source": [
    "#### **Oversampling minority class using SMOTE**\n"
   ]
  },
  {
   "cell_type": "code",
   "execution_count": 114,
   "metadata": {},
   "outputs": [
    {
     "data": {
      "text/plain": [
       "1    1020\n",
       "0    1020\n",
       "Name: TravelInsurance, dtype: int64"
      ]
     },
     "execution_count": 114,
     "metadata": {},
     "output_type": "execute_result"
    }
   ],
   "source": [
    "# oversampling the minority class\n",
    "\n",
    "smote = SMOTE()\n",
    "X_train_resampled, y_train_resampled = smote.fit_resample(X_train_preprocessed, y_train)\n",
    "\n",
    "y_train_resampled.value_counts()"
   ]
  },
  {
   "cell_type": "markdown",
   "metadata": {},
   "source": [
    "#### **Fitting a baseline model**\n"
   ]
  },
  {
   "cell_type": "code",
   "execution_count": 115,
   "metadata": {},
   "outputs": [
    {
     "data": {
      "application/javascript": "\n        if (window._pyforest_update_imports_cell) { window._pyforest_update_imports_cell('from sklearn.linear_model import LogisticRegression'); }\n    ",
      "text/plain": [
       "<IPython.core.display.Javascript object>"
      ]
     },
     "metadata": {},
     "output_type": "display_data"
    }
   ],
   "source": [
    "# creating an instance of a lasso logistic model \n",
    "\n",
    "logistic_model = LogisticRegression(penalty='l1', solver='liblinear')"
   ]
  },
  {
   "cell_type": "code",
   "execution_count": 116,
   "metadata": {},
   "outputs": [
    {
     "data": {
      "text/plain": [
       "LogisticRegression(penalty='l1', solver='liblinear')"
      ]
     },
     "execution_count": 116,
     "metadata": {},
     "output_type": "execute_result"
    }
   ],
   "source": [
    "# fitting model to training data \n",
    "\n",
    "logistic_model.fit(X_train_resampled, y_train_resampled)"
   ]
  },
  {
   "cell_type": "code",
   "execution_count": 117,
   "metadata": {},
   "outputs": [],
   "source": [
    "# transforming X_test using pipeline \n",
    "\n",
    "X_test_preprocessed = pipeline.transform(X_test)"
   ]
  },
  {
   "cell_type": "code",
   "execution_count": 118,
   "metadata": {},
   "outputs": [],
   "source": [
    "# predicting on x_test\n",
    "\n",
    "pred_y_log = logistic_model.predict(X_test_preprocessed)"
   ]
  },
  {
   "cell_type": "code",
   "execution_count": 119,
   "metadata": {},
   "outputs": [
    {
     "data": {
      "text/plain": [
       "0.7135678391959799"
      ]
     },
     "execution_count": 119,
     "metadata": {},
     "output_type": "execute_result"
    }
   ],
   "source": [
    "# accuracy of logistic model \n",
    "\n",
    "accuracy_score(pred_y_log, y_test)"
   ]
  },
  {
   "cell_type": "markdown",
   "metadata": {},
   "source": [
    "#### **Fitting other classifiers**\n"
   ]
  },
  {
   "cell_type": "code",
   "execution_count": 121,
   "metadata": {},
   "outputs": [],
   "source": [
    "# creating an instance of k-nearest-neighbor\n",
    "\n",
    "  \n",
    "knn_classifier = KNeighborsClassifier()\n"
   ]
  },
  {
   "cell_type": "code",
   "execution_count": 122,
   "metadata": {},
   "outputs": [
    {
     "data": {
      "text/plain": [
       "KNeighborsClassifier()"
      ]
     },
     "execution_count": 122,
     "metadata": {},
     "output_type": "execute_result"
    }
   ],
   "source": [
    "# fitting knn to training data\n",
    "\n",
    "knn_classifier.fit(X_train_resampled, y_train_resampled)"
   ]
  },
  {
   "cell_type": "code",
   "execution_count": 123,
   "metadata": {},
   "outputs": [],
   "source": [
    "# predicting on test set\n",
    "\n",
    "pred_y_knn = knn_classifier.predict(X_test_preprocessed)"
   ]
  },
  {
   "cell_type": "code",
   "execution_count": 124,
   "metadata": {},
   "outputs": [
    {
     "data": {
      "text/plain": [
       "0.7160804020100503"
      ]
     },
     "execution_count": 124,
     "metadata": {},
     "output_type": "execute_result"
    }
   ],
   "source": [
    "# accuracy of knn\n",
    "\n",
    "accuracy_score(pred_y_knn, y_test)"
   ]
  },
  {
   "cell_type": "markdown",
   "metadata": {},
   "source": [
    "---\n"
   ]
  },
  {
   "cell_type": "code",
   "execution_count": 125,
   "metadata": {},
   "outputs": [],
   "source": [
    "# fitting an instance of a randomforest classifier\n",
    "\n",
    "random_classifier = RandomForestClassifier()"
   ]
  },
  {
   "cell_type": "code",
   "execution_count": 127,
   "metadata": {},
   "outputs": [
    {
     "data": {
      "text/plain": [
       "RandomForestClassifier()"
      ]
     },
     "execution_count": 127,
     "metadata": {},
     "output_type": "execute_result"
    }
   ],
   "source": [
    "# fitting classifiers to training data \n",
    "\n",
    "random_classifier.fit(X_train_resampled, y_train_resampled)"
   ]
  },
  {
   "cell_type": "code",
   "execution_count": 128,
   "metadata": {},
   "outputs": [],
   "source": [
    "# predicting on test set \n",
    "\n",
    "pred_y_rf = random_classifier.predict(X_test_preprocessed)"
   ]
  },
  {
   "cell_type": "code",
   "execution_count": 129,
   "metadata": {},
   "outputs": [
    {
     "data": {
      "text/plain": [
       "0.7989949748743719"
      ]
     },
     "execution_count": 129,
     "metadata": {},
     "output_type": "execute_result"
    }
   ],
   "source": [
    "# checking accuracy of rf model \n",
    "\n",
    "accuracy_score(pred_y_rf,y_test)"
   ]
  },
  {
   "cell_type": "markdown",
   "metadata": {},
   "source": [
    "---\n"
   ]
  },
  {
   "cell_type": "code",
   "execution_count": 130,
   "metadata": {},
   "outputs": [],
   "source": [
    "# creating an instance of adaboost classifier\n",
    "\n",
    "adaboost_classifier = AdaBoostClassifier()"
   ]
  },
  {
   "cell_type": "code",
   "execution_count": 131,
   "metadata": {},
   "outputs": [
    {
     "data": {
      "text/plain": [
       "AdaBoostClassifier()"
      ]
     },
     "execution_count": 131,
     "metadata": {},
     "output_type": "execute_result"
    }
   ],
   "source": [
    "# fitting boosted model to training instances \n",
    "\n",
    "adaboost_classifier.fit(X_train_resampled, y_train_resampled)"
   ]
  },
  {
   "cell_type": "code",
   "execution_count": 132,
   "metadata": {},
   "outputs": [],
   "source": [
    "# predicting on the test set \n",
    "\n",
    "pred_y_ada = adaboost_classifier.predict(X_test_preprocessed)"
   ]
  },
  {
   "cell_type": "code",
   "execution_count": 133,
   "metadata": {},
   "outputs": [
    {
     "data": {
      "text/plain": [
       "0.7964824120603015"
      ]
     },
     "execution_count": 133,
     "metadata": {},
     "output_type": "execute_result"
    }
   ],
   "source": [
    "# accuracy of adaboost_classifier \n",
    "\n",
    "accuracy_score(pred_y_ada, y_test)"
   ]
  },
  {
   "cell_type": "markdown",
   "metadata": {},
   "source": [
    "---\n"
   ]
  },
  {
   "cell_type": "markdown",
   "metadata": {},
   "source": [
    "#### **Fine tuning the best model(Random Forest classifier)**\n"
   ]
  },
  {
   "cell_type": "code",
   "execution_count": 134,
   "metadata": {},
   "outputs": [
    {
     "data": {
      "application/javascript": "\n        if (window._pyforest_update_imports_cell) { window._pyforest_update_imports_cell('from sklearn.model_selection import GridSearchCV\\nfrom sklearn.linear_model import LogisticRegression'); }\n    ",
      "text/plain": [
       "<IPython.core.display.Javascript object>"
      ]
     },
     "metadata": {},
     "output_type": "display_data"
    },
    {
     "data": {
      "text/plain": [
       "{'max_depth': 3, 'max_features': None, 'max_leaf_nodes': 9, 'n_estimators': 25}"
      ]
     },
     "execution_count": 134,
     "metadata": {},
     "output_type": "execute_result"
    }
   ],
   "source": [
    "grid_search_rf = RandomForestClassifier()\n",
    "\n",
    "param_grid = {\n",
    "    'n_estimators': [25, 50, 100, 150],\n",
    "    'max_features': ['sqrt', 'log2', None],\n",
    "    'max_depth': [3, 6, 9],\n",
    "    'max_leaf_nodes': [3, 6, 9],\n",
    "}\n",
    "\n",
    "tuned_rf = GridSearchCV(grid_search_rf, param_grid, cv=3)\n",
    "tuned_rf.fit(X_train_resampled, y_train_resampled)\n",
    "\n",
    "tuned_rf.best_params_"
   ]
  },
  {
   "cell_type": "code",
   "execution_count": 138,
   "metadata": {},
   "outputs": [
    {
     "name": "stdout",
     "output_type": "stream",
     "text": [
      "              precision    recall  f1-score   support\n",
      "\n",
      "           0       0.77      0.91      0.83       257\n",
      "           1       0.75      0.50      0.60       141\n",
      "\n",
      "    accuracy                           0.76       398\n",
      "   macro avg       0.76      0.70      0.72       398\n",
      "weighted avg       0.76      0.76      0.75       398\n",
      "\n"
     ]
    }
   ],
   "source": [
    "# Updating parameters for the tuned model\n",
    "\n",
    "tuned_rf_classifier = RandomForestClassifier(max_depth=3,\n",
    "                                    max_features=\"auto\",\n",
    "                                    max_leaf_nodes=9,\n",
    "                                    n_estimators=25)\n",
    "tuned_rf_classifier.fit(X_train_resampled, y_train_resampled)\n",
    "pred_y_rf_tuned = tuned_rf_classifier.predict(X_test_preprocessed)\n",
    "print(classification_report(y_test,pred_y_rf_tuned))"
   ]
  },
  {
   "cell_type": "code",
   "execution_count": 141,
   "metadata": {},
   "outputs": [
    {
     "data": {
      "image/png": "[encoded data removed]",
      "text/plain": [
       "<Figure size 576x432 with 2 Axes>"
      ]
     },
     "metadata": {},
     "output_type": "display_data"
    }
   ],
   "source": [
    "# confusion matrix for the tuned random classifier\n",
    "\n",
    "confus_matrix= confusion_matrix(y_test, pred_y_rf_tuned)\n",
    "\n",
    "plt.figure(figsize= (8,6))\n",
    "ax= plt.subplot()\n",
    "sns.heatmap(confus_matrix, annot=True, fmt='g', ax=ax, linewidth =0.2, cmap='Reds');  \n",
    "# labels, title and ticks\n",
    "ax.set_xlabel('Predicted labels');ax.set_ylabel('True labels'); \n",
    "ax.set_title('Confusion matrix for tuned random forest classifier'); \n",
    "ax.xaxis.set_ticklabels(['No purchase', 'Purchase']); ax.yaxis.set_ticklabels(['Non purchase', 'Purchase']);\n",
    "\n"
   ]
  },
  {
   "cell_type": "markdown",
   "metadata": {},
   "source": [
    "In the given classification report, precision and recall are metrics used to evaluate the performance of a binary classification model. In this context, 1 represents customers who will buy the insurance, while 0 represents customers who will not buy the insurance.\n",
    "\n",
    "1. **Precision**:\n",
    "\n",
    "   - For class 0 (customers who will not buy the insurance), precision is 0.77. This means that out of all instances predicted as class 0, 77% were actually correct. In other words, when the model predicts that a customer will not buy insurance, it is correct 77% of the time.\n",
    "\n",
    "   - For class 1 (customers who will buy the insurance), precision is 0.75. This means that out of all instances predicted as class 1, 75% were actually correct. In other words, when the model predicts that a customer will buy insurance, it is correct 75% of the time.\n",
    "\n",
    "   - In practical terms, precision is important because it reflects the accuracy of the model when it predicts a specific class. For example, a high precision for class 0 indicates that the model is effective at correctly identifying customers who will not buy insurance.\n",
    "\n",
    "2. **Recall**:\n",
    "\n",
    "   - For class 0, recall is 0.91. This means that out of all actual instances of class 0, 91% were correctly predicted by the model. In other words, the model effectively captures 91% of the customers who will not buy insurance.\n",
    "\n",
    "   - For class 1, recall is 0.50. This means that out of all actual instances of class 1, only 50% were correctly predicted by the model. In other words, the model captures only 50% of the customers who will buy insurance.\n",
    "\n",
    "   - Recall is crucial because it addresses the risk of missing potential customers. In this context, a higher recall for class 1 would indicate that the model is better at identifying customers who will buy insurance, which is essential for maximizing revenue.\n"
   ]
  },
  {
   "cell_type": "markdown",
   "metadata": {},
   "source": [
    "---\n"
   ]
  },
  {
   "cell_type": "markdown",
   "metadata": {},
   "source": [
    "### **PICKLING MODEL AND PREPROCESSING PIPELINE FOR USE IN FLASK APP**\n"
   ]
  },
  {
   "cell_type": "code",
   "execution_count": 142,
   "metadata": {},
   "outputs": [
    {
     "data": {
      "application/javascript": "\n        if (window._pyforest_update_imports_cell) { window._pyforest_update_imports_cell('from sklearn.model_selection import GridSearchCV\\nfrom sklearn.linear_model import LogisticRegression\\nimport pickle'); }\n    ",
      "text/plain": [
       "<IPython.core.display.Javascript object>"
      ]
     },
     "metadata": {},
     "output_type": "display_data"
    },
    {
     "name": "stdout",
     "output_type": "stream",
     "text": [
      "Model saved successfully as a pickle object.\n"
     ]
    }
   ],
   "source": [
    "# saving the classifier as a pickle object\n",
    "\n",
    "def save_model(model, file_path):\n",
    "    try:\n",
    "        with open(file_path, 'wb') as file:\n",
    "            pickle.dump(model, file)\n",
    "        print(\"Model saved successfully as a pickle object.\")\n",
    "    except IOError:\n",
    "        print(\"Error saving the model as a pickle object.\")\n",
    "\n",
    "# Specify the file path where you want to save the model\n",
    "file_path = 'model.pkl'\n",
    "\n",
    "# Call the function to save the model\n",
    "save_model(tuned_rf_classifier, file_path)"
   ]
  },
  {
   "cell_type": "code",
   "execution_count": 145,
   "metadata": {},
   "outputs": [
    {
     "data": {
      "text/plain": [
       "['preproc_pipeline.pkl']"
      ]
     },
     "execution_count": 145,
     "metadata": {},
     "output_type": "execute_result"
    }
   ],
   "source": [
    "# saving the preprocessing pipeline\n",
    "\n",
    "joblib.dump(pipeline, \"preproc_pipeline.pkl\")"
   ]
  },
  {
   "cell_type": "markdown",
   "metadata": {},
   "source": [
    "## **RECOMMENDATIONS**\n"
   ]
  },
  {
   "cell_type": "markdown",
   "metadata": {},
   "source": [
    "1. **Target the Private Sector**: Since a significant portion of customers who purchased travel insurance were from the private sector (28%), ExploreXperience should focus their marketing efforts on this demographic. However, it's also important to note that a substantial number of private sector customers (42.63%) did not buy insurance. Therefore, tailored marketing strategies should be employed to address the concerns or preferences of this group.\n",
    "\n",
    "2. **Leverage Education Level**: Customers who were graduates were more likely to purchase travel insurance (30.75%) compared to those who were not graduates (4.98%). This indicates that education level may be a significant factor in a customer's decision to buy insurance. ExploreXperience can create targeted campaigns or incentives to attract and convert more non-graduate customers.\n",
    "\n",
    "3. **Consider Chronic Disease Status**: ExploreXperience should pay attention to customers with chronic diseases. Currently, only 10% of customers with chronic diseases purchased travel insurance. This represents an opportunity to provide tailored insurance offerings or additional benefits for this group. Additionally, efforts can be made to address concerns or reservations that may be preventing them from purchasing insurance.\n",
    "\n",
    "4. **Engage Frequent Flyers**: Given that only 12% of customers identified as frequent flyers purchased travel insurance, ExploreXperience can create promotions or packages specifically designed to cater to this group. Highlighting the benefits of insurance for frequent travelers and providing attractive offers can increase conversion rates.\n",
    "\n",
    "5. **Promote Travel Abroad Experiences**: Customers who have traveled abroad in the past are more likely to purchase travel insurance (15%). ExploreXperience can capitalize on this by emphasizing the value of insurance for international travel. This could include features like medical coverage, trip cancellation protection, and assistance services tailored for overseas trips.\n",
    "\n",
    "6. **Educate Non-Travelers on Insurance Benefits**: There is a large segment of customers (60%) who have not traveled abroad and have not purchased travel insurance. ExploreXperience can run awareness campaigns highlighting the importance of insurance, even for domestic trips. This can include coverage for unexpected events like trip cancellations, medical emergencies, or lost luggage.\n",
    "\n",
    "7. **Customer Feedback and Customization**: Gathering feedback from customers who did not purchase insurance can provide valuable insights into their concerns or reasons for not opting for it. This information can be used to customize insurance offerings, address objections, and improve the overall value proposition.\n"
   ]
  }
 ],
 "metadata": {
  "kernelspec": {
   "display_name": "learn-env",
   "language": "python",
   "name": "python3"
  },
  "language_info": {
   "codemirror_mode": {
    "name": "ipython",
    "version": 3
   },
   "file_extension": ".py",
   "mimetype": "text/x-python",
   "name": "python",
   "nbconvert_exporter": "python",
   "pygments_lexer": "ipython3",
   "version": "3.8.5"
  },
  "orig_nbformat": 4
 },
 "nbformat": 4,
 "nbformat_minor": 2
}
